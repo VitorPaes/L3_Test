{
  "cells": [
    {
      "cell_type": "markdown",
      "metadata": {
        "id": "view-in-github",
        "colab_type": "text"
      },
      "source": [
        "<a href=\"https://colab.research.google.com/github/VitorPaes/L3_Test/blob/main/NFes_pyspark.ipynb\" target=\"_parent\"><img src=\"https://colab.research.google.com/assets/colab-badge.svg\" alt=\"Open In Colab\"/></a>"
      ]
    },
    {
      "cell_type": "markdown",
      "metadata": {
        "id": "f71UHvaqfbqt"
      },
      "source": [
        "## Teste de transformação de dataframe e modelagem"
      ]
    },
    {
      "cell_type": "code",
      "source": [
        "!pip install pyspark"
      ],
      "metadata": {
        "colab": {
          "base_uri": "https://localhost:8080/"
        },
        "id": "E14DIapZh9p_",
        "outputId": "52d3e798-10bc-4fb4-c238-9af1287b2436"
      },
      "execution_count": 3,
      "outputs": [
        {
          "output_type": "stream",
          "name": "stdout",
          "text": [
            "Collecting pyspark\n",
            "  Downloading pyspark-3.2.0.tar.gz (281.3 MB)\n",
            "\u001b[K     |████████████████████████████████| 281.3 MB 38 kB/s \n",
            "\u001b[?25hCollecting py4j==0.10.9.2\n",
            "  Downloading py4j-0.10.9.2-py2.py3-none-any.whl (198 kB)\n",
            "\u001b[K     |████████████████████████████████| 198 kB 57.8 MB/s \n",
            "\u001b[?25hBuilding wheels for collected packages: pyspark\n",
            "  Building wheel for pyspark (setup.py) ... \u001b[?25l\u001b[?25hdone\n",
            "  Created wheel for pyspark: filename=pyspark-3.2.0-py2.py3-none-any.whl size=281805911 sha256=1abbe8663f4ee58bb070a56f30886d7ab494ebb76db8567f7ee1f09fbfba8ad1\n",
            "  Stored in directory: /root/.cache/pip/wheels/0b/de/d2/9be5d59d7331c6c2a7c1b6d1a4f463ce107332b1ecd4e80718\n",
            "Successfully built pyspark\n",
            "Installing collected packages: py4j, pyspark\n",
            "Successfully installed py4j-0.10.9.2 pyspark-3.2.0\n"
          ]
        }
      ]
    },
    {
      "cell_type": "code",
      "execution_count": 4,
      "metadata": {
        "colab": {
          "base_uri": "https://localhost:8080/"
        },
        "id": "V2Z6iqwVfbqv",
        "outputId": "22bd275f-e07b-4188-e914-48081d0b56eb"
      },
      "outputs": [
        {
          "output_type": "stream",
          "name": "stderr",
          "text": [
            "/usr/local/lib/python3.7/dist-packages/pyspark/sql/context.py:79: FutureWarning: Deprecated in 3.0.0. Use SparkSession.builder.getOrCreate() instead.\n",
            "  FutureWarning\n"
          ]
        }
      ],
      "source": [
        "# import base do pyspark\n",
        "from pyspark import SparkContext\n",
        "from pyspark.sql import SQLContext\n",
        "from pyspark.sql.functions import col, explode, round as spark_round\n",
        "\n",
        "sc = SparkContext()\n",
        "sqlContext = SQLContext(sc)"
      ]
    },
    {
      "cell_type": "code",
      "execution_count": 6,
      "metadata": {
        "id": "nWpSLmf9fbqx"
      },
      "outputs": [],
      "source": [
        "input_data = sqlContext.read.json('/data.json', multiLine=True)"
      ]
    },
    {
      "cell_type": "markdown",
      "metadata": {
        "id": "zkyyX_sCfbqx"
      },
      "source": [
        "## Flattening nested data\n",
        "\n"
      ]
    },
    {
      "cell_type": "code",
      "execution_count": 8,
      "metadata": {
        "colab": {
          "base_uri": "https://localhost:8080/"
        },
        "id": "m2R5RFYmfbqy",
        "outputId": "3cdc87ca-5f18-46d2-b986-5d7b3c24f04c"
      },
      "outputs": [
        {
          "output_type": "stream",
          "name": "stdout",
          "text": [
            "+----------------------+--------+-------------------+-----------------------------------------------------------------+-----+---------+\n",
            "|CreateDate            |Discount|EmissionDate       |ItemList                                                         |NFeID|NFeNumber|\n",
            "+----------------------+--------+-------------------+-----------------------------------------------------------------+-----+---------+\n",
            "|2021-05-24T20:21:34.79|0.0     |2021-05-24T00:00:00|[{Rice, 2, 35.55}, {Flour, 5, 11.55}, {Bean, 7, 27.15}]          |1    |501      |\n",
            "|2021-05-24T20:21:34.79|0.0     |2021-05-24T00:00:00|[{Tomate, 10, 12.25}, {Pasta, 5, 7.55}]                          |2    |502      |\n",
            "|2021-05-24T20:21:34.79|0.0     |2021-05-24T00:00:00|[{Beer, 6, 9.0}, {French fries, 2, 10.99}, {Ice cream, 1, 27.15}]|3    |503      |\n",
            "+----------------------+--------+-------------------+-----------------------------------------------------------------+-----+---------+\n",
            "\n"
          ]
        }
      ],
      "source": [
        "input_data.show(truncate=False)"
      ]
    },
    {
      "cell_type": "code",
      "execution_count": 9,
      "metadata": {
        "colab": {
          "base_uri": "https://localhost:8080/"
        },
        "id": "uxRLDG59fbqz",
        "outputId": "ae06cbde-6a5c-4e38-9a33-41120dcb43cc"
      },
      "outputs": [
        {
          "output_type": "stream",
          "name": "stdout",
          "text": [
            "root\n",
            " |-- CreateDate: string (nullable = true)\n",
            " |-- Discount: double (nullable = true)\n",
            " |-- EmissionDate: string (nullable = true)\n",
            " |-- ItemList: array (nullable = true)\n",
            " |    |-- element: struct (containsNull = true)\n",
            " |    |    |-- ProductName: string (nullable = true)\n",
            " |    |    |-- Quantity: long (nullable = true)\n",
            " |    |    |-- Value: double (nullable = true)\n",
            " |-- NFeID: long (nullable = true)\n",
            " |-- NFeNumber: long (nullable = true)\n",
            "\n"
          ]
        }
      ],
      "source": [
        "input_data.printSchema()"
      ]
    },
    {
      "cell_type": "markdown",
      "metadata": {
        "id": "24vaOUOcfbqz"
      },
      "source": [
        "### Função _explode_ e como ela funciona\n",
        "\n",
        "Analisando o nosso DataFrame inicial, temos na coluna `ItemList` um array de structs, ou seja, uma lista de objetos. Como podemos lidar com isso? \n",
        "\n",
        "Uma das formas de achatar os dados é utilizar a função _explode_ do spark, separando a lista em linhas diferentes para cada objeto."
      ]
    },
    {
      "cell_type": "code",
      "execution_count": 11,
      "metadata": {
        "id": "IHzkSgyhfbq0"
      },
      "outputs": [],
      "source": [
        "exploded_data = input_data.select(*input_data.columns, explode(\"ItemList\").alias(\"Item\")).drop(\"ItemList\")"
      ]
    },
    {
      "cell_type": "code",
      "execution_count": 12,
      "metadata": {
        "colab": {
          "base_uri": "https://localhost:8080/"
        },
        "id": "mC6QKq-kfbq0",
        "outputId": "016df42b-bbb3-477f-b9a2-03efbb50118e"
      },
      "outputs": [
        {
          "output_type": "stream",
          "name": "stdout",
          "text": [
            "+--------------------+--------+-------------------+-----+---------+--------------------+\n",
            "|          CreateDate|Discount|       EmissionDate|NFeID|NFeNumber|                Item|\n",
            "+--------------------+--------+-------------------+-----+---------+--------------------+\n",
            "|2021-05-24T20:21:...|     0.0|2021-05-24T00:00:00|    1|      501|    {Rice, 2, 35.55}|\n",
            "|2021-05-24T20:21:...|     0.0|2021-05-24T00:00:00|    1|      501|   {Flour, 5, 11.55}|\n",
            "|2021-05-24T20:21:...|     0.0|2021-05-24T00:00:00|    1|      501|    {Bean, 7, 27.15}|\n",
            "|2021-05-24T20:21:...|     0.0|2021-05-24T00:00:00|    2|      502| {Tomate, 10, 12.25}|\n",
            "|2021-05-24T20:21:...|     0.0|2021-05-24T00:00:00|    2|      502|    {Pasta, 5, 7.55}|\n",
            "|2021-05-24T20:21:...|     0.0|2021-05-24T00:00:00|    3|      503|      {Beer, 6, 9.0}|\n",
            "|2021-05-24T20:21:...|     0.0|2021-05-24T00:00:00|    3|      503|{French fries, 2,...|\n",
            "|2021-05-24T20:21:...|     0.0|2021-05-24T00:00:00|    3|      503|{Ice cream, 1, 27...|\n",
            "+--------------------+--------+-------------------+-----+---------+--------------------+\n",
            "\n"
          ]
        }
      ],
      "source": [
        "exploded_data.show()"
      ]
    },
    {
      "cell_type": "code",
      "execution_count": 13,
      "metadata": {
        "colab": {
          "base_uri": "https://localhost:8080/"
        },
        "id": "tzrjHs74fbq1",
        "outputId": "496efcfe-0e17-449d-d896-b53667b0cd4e"
      },
      "outputs": [
        {
          "output_type": "stream",
          "name": "stdout",
          "text": [
            "root\n",
            " |-- CreateDate: string (nullable = true)\n",
            " |-- Discount: double (nullable = true)\n",
            " |-- EmissionDate: string (nullable = true)\n",
            " |-- NFeID: long (nullable = true)\n",
            " |-- NFeNumber: long (nullable = true)\n",
            " |-- Item: struct (nullable = true)\n",
            " |    |-- ProductName: string (nullable = true)\n",
            " |    |-- Quantity: long (nullable = true)\n",
            " |    |-- Value: double (nullable = true)\n",
            "\n"
          ]
        }
      ],
      "source": [
        "exploded_data.printSchema()"
      ]
    },
    {
      "cell_type": "markdown",
      "metadata": {
        "id": "RB4ng8Cpfbq1"
      },
      "source": [
        "### Expandindo a columa Item em colunas de itens separados\n",
        "\n"
      ]
    },
    {
      "cell_type": "code",
      "execution_count": 14,
      "metadata": {
        "id": "PdSBQxGnfbq2"
      },
      "outputs": [],
      "source": [
        "expanded_columns_data = exploded_data                               \\\n",
        "                .withColumn(\"ProductName\", col(\"Item.ProductName\")) \\\n",
        "                .withColumn(\"Quantity\",    col(\"Item.Quantity\"))    \\\n",
        "                .withColumn(\"Value\",       col(\"Item.Value\"))       \\\n",
        "                .drop(\"Item\")"
      ]
    },
    {
      "cell_type": "code",
      "source": [
        "expanded_columns_data.show()"
      ],
      "metadata": {
        "colab": {
          "base_uri": "https://localhost:8080/"
        },
        "id": "2HRPP5GcjJqf",
        "outputId": "8fc5a84f-10ad-4ae8-beeb-743ed86246f8"
      },
      "execution_count": 15,
      "outputs": [
        {
          "output_type": "stream",
          "name": "stdout",
          "text": [
            "+--------------------+--------+-------------------+-----+---------+------------+--------+-----+\n",
            "|          CreateDate|Discount|       EmissionDate|NFeID|NFeNumber| ProductName|Quantity|Value|\n",
            "+--------------------+--------+-------------------+-----+---------+------------+--------+-----+\n",
            "|2021-05-24T20:21:...|     0.0|2021-05-24T00:00:00|    1|      501|        Rice|       2|35.55|\n",
            "|2021-05-24T20:21:...|     0.0|2021-05-24T00:00:00|    1|      501|       Flour|       5|11.55|\n",
            "|2021-05-24T20:21:...|     0.0|2021-05-24T00:00:00|    1|      501|        Bean|       7|27.15|\n",
            "|2021-05-24T20:21:...|     0.0|2021-05-24T00:00:00|    2|      502|      Tomate|      10|12.25|\n",
            "|2021-05-24T20:21:...|     0.0|2021-05-24T00:00:00|    2|      502|       Pasta|       5| 7.55|\n",
            "|2021-05-24T20:21:...|     0.0|2021-05-24T00:00:00|    3|      503|        Beer|       6|  9.0|\n",
            "|2021-05-24T20:21:...|     0.0|2021-05-24T00:00:00|    3|      503|French fries|       2|10.99|\n",
            "|2021-05-24T20:21:...|     0.0|2021-05-24T00:00:00|    3|      503|   Ice cream|       1|27.15|\n",
            "+--------------------+--------+-------------------+-----+---------+------------+--------+-----+\n",
            "\n"
          ]
        }
      ]
    },
    {
      "cell_type": "markdown",
      "metadata": {
        "id": "eR-4Tgesfbq4"
      },
      "source": [
        "## Separando o DataFrame em dois "
      ]
    },
    {
      "cell_type": "code",
      "execution_count": 16,
      "metadata": {
        "id": "5J9xWhYHfbq4"
      },
      "outputs": [],
      "source": [
        "notas = input_data.drop(\"ItemList\")\n",
        "\n",
        "produtos = expanded_columns_data.select(\"NFeID\", \"ProductName\", \"Quantity\", \"Value\")"
      ]
    },
    {
      "cell_type": "code",
      "execution_count": 17,
      "metadata": {
        "colab": {
          "base_uri": "https://localhost:8080/"
        },
        "id": "QSXEzd6Lfbq4",
        "outputId": "8fad1fe8-867e-46ba-b64e-82cf54498ed1"
      },
      "outputs": [
        {
          "output_type": "stream",
          "name": "stdout",
          "text": [
            "+--------------------+--------+-------------------+-----+---------+\n",
            "|          CreateDate|Discount|       EmissionDate|NFeID|NFeNumber|\n",
            "+--------------------+--------+-------------------+-----+---------+\n",
            "|2021-05-24T20:21:...|     0.0|2021-05-24T00:00:00|    1|      501|\n",
            "|2021-05-24T20:21:...|     0.0|2021-05-24T00:00:00|    2|      502|\n",
            "|2021-05-24T20:21:...|     0.0|2021-05-24T00:00:00|    3|      503|\n",
            "+--------------------+--------+-------------------+-----+---------+\n",
            "\n"
          ]
        }
      ],
      "source": [
        "notas.show()"
      ]
    },
    {
      "cell_type": "code",
      "execution_count": 18,
      "metadata": {
        "colab": {
          "base_uri": "https://localhost:8080/"
        },
        "id": "kKO57H_2fbq5",
        "outputId": "98011637-d17c-4e8c-bc9f-d1171ad41c48"
      },
      "outputs": [
        {
          "output_type": "stream",
          "name": "stdout",
          "text": [
            "+-----+------------+--------+-----+\n",
            "|NFeID| ProductName|Quantity|Value|\n",
            "+-----+------------+--------+-----+\n",
            "|    1|        Rice|       2|35.55|\n",
            "|    1|       Flour|       5|11.55|\n",
            "|    1|        Bean|       7|27.15|\n",
            "|    2|      Tomate|      10|12.25|\n",
            "|    2|       Pasta|       5| 7.55|\n",
            "|    3|        Beer|       6|  9.0|\n",
            "|    3|French fries|       2|10.99|\n",
            "|    3|   Ice cream|       1|27.15|\n",
            "+-----+------------+--------+-----+\n",
            "\n"
          ]
        }
      ],
      "source": [
        "produtos.show()"
      ]
    }
  ],
  "metadata": {
    "kernelspec": {
      "display_name": "Python 3",
      "language": "python",
      "name": "python3"
    },
    "language_info": {
      "codemirror_mode": {
        "name": "ipython",
        "version": 3
      },
      "file_extension": ".py",
      "mimetype": "text/x-python",
      "name": "python",
      "nbconvert_exporter": "python",
      "pygments_lexer": "ipython3",
      "version": "3.8.5"
    },
    "colab": {
      "name": "Transformação de NFe's em pyspark.ipynb",
      "provenance": [],
      "include_colab_link": true
    }
  },
  "nbformat": 4,
  "nbformat_minor": 0
}