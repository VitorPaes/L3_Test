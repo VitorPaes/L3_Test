{
  "cells": [
    {
      "cell_type": "markdown",
      "metadata": {
        "id": "view-in-github",
        "colab_type": "text"
      },
      "source": [
        "<a href=\"https://colab.research.google.com/github/VitorPaes/L3_Test/blob/main/Total_liquido.ipynb\" target=\"_parent\"><img src=\"https://colab.research.google.com/assets/colab-badge.svg\" alt=\"Open In Colab\"/></a>"
      ]
    },
    {
      "cell_type": "markdown",
      "metadata": {
        "id": "saTfxiIDfDMI"
      },
      "source": [
        "## Valor líquido, dada uma base inicial"
      ]
    },
    {
      "cell_type": "code",
      "source": [
        "!pip install pyspark"
      ],
      "metadata": {
        "colab": {
          "base_uri": "https://localhost:8080/"
        },
        "id": "dJO50tymfwL0",
        "outputId": "c4903b7b-6aec-4dd1-bf3e-4a3d0959d08d"
      },
      "execution_count": 4,
      "outputs": [
        {
          "output_type": "stream",
          "name": "stdout",
          "text": [
            "Collecting pyspark\n",
            "  Downloading pyspark-3.2.0.tar.gz (281.3 MB)\n",
            "\u001b[K     |████████████████████████████████| 281.3 MB 41 kB/s \n",
            "\u001b[?25hCollecting py4j==0.10.9.2\n",
            "  Downloading py4j-0.10.9.2-py2.py3-none-any.whl (198 kB)\n",
            "\u001b[K     |████████████████████████████████| 198 kB 56.8 MB/s \n",
            "\u001b[?25hBuilding wheels for collected packages: pyspark\n",
            "  Building wheel for pyspark (setup.py) ... \u001b[?25l\u001b[?25hdone\n",
            "  Created wheel for pyspark: filename=pyspark-3.2.0-py2.py3-none-any.whl size=281805911 sha256=ea90c4fb55748cb0fa9dc50cc4b36dc41dfb92c7b249ff10354c072e9907737f\n",
            "  Stored in directory: /root/.cache/pip/wheels/0b/de/d2/9be5d59d7331c6c2a7c1b6d1a4f463ce107332b1ecd4e80718\n",
            "Successfully built pyspark\n",
            "Installing collected packages: py4j, pyspark\n",
            "Successfully installed py4j-0.10.9.2 pyspark-3.2.0\n"
          ]
        }
      ]
    },
    {
      "cell_type": "code",
      "execution_count": 5,
      "metadata": {
        "colab": {
          "base_uri": "https://localhost:8080/"
        },
        "id": "tjjSUzNQfDMM",
        "outputId": "ddd644ed-7faf-495a-f0af-06b2b18a843d"
      },
      "outputs": [
        {
          "output_type": "stream",
          "name": "stderr",
          "text": [
            "/usr/local/lib/python3.7/dist-packages/pyspark/sql/context.py:79: FutureWarning: Deprecated in 3.0.0. Use SparkSession.builder.getOrCreate() instead.\n",
            "  FutureWarning\n"
          ]
        }
      ],
      "source": [
        "# import base do pyspark\n",
        "\n",
        "from pyspark import SparkContext\n",
        "from pyspark.sql import SQLContext\n",
        "from pyspark.sql.functions import col, format_number, round as spark_round\n",
        "\n",
        "sc = SparkContext()\n",
        "sqlContext = SQLContext(sc)"
      ]
    },
    {
      "cell_type": "code",
      "execution_count": 6,
      "metadata": {
        "id": "kpRFDw9CfDMO"
      },
      "outputs": [],
      "source": [
        "#constante simulando dados de entrada\n",
        "TRANSACTIONS = [\n",
        "    {'transacao_id': 1, 'total_bruto': 3000,  'desconto_percentual': 6.99},\n",
        "    {'transacao_id': 2, 'total_bruto': 57989, 'desconto_percentual': 1.45},\n",
        "    {'transacao_id': 4, 'total_bruto': 1,     'desconto_percentual': None},\n",
        "    {'transacao_id': 5, 'total_bruto': 34,    'desconto_percentual': 0.0 }\n",
        "]"
      ]
    },
    {
      "cell_type": "markdown",
      "metadata": {
        "id": "fDvnAT_PfDMP"
      },
      "source": [
        "### Transformando a lista de dados em DataFrame e organizando as colunas.\n",
        "\n"
      ]
    },
    {
      "cell_type": "code",
      "execution_count": 7,
      "metadata": {
        "id": "BYf5c8XFfDMQ"
      },
      "outputs": [],
      "source": [
        "input_transactions = sqlContext.createDataFrame(TRANSACTIONS)\n",
        "ordered_transactions = input_transactions.select('transacao_id', 'total_bruto', 'desconto_percentual')"
      ]
    },
    {
      "cell_type": "code",
      "execution_count": 8,
      "metadata": {
        "colab": {
          "base_uri": "https://localhost:8080/"
        },
        "id": "cP5JicsLfDMR",
        "outputId": "41488435-7105-45fd-b908-91a0327fbf50"
      },
      "outputs": [
        {
          "output_type": "stream",
          "name": "stdout",
          "text": [
            "+------------+-----------+-------------------+\n",
            "|transacao_id|total_bruto|desconto_percentual|\n",
            "+------------+-----------+-------------------+\n",
            "|           1|       3000|               6.99|\n",
            "|           2|      57989|               1.45|\n",
            "|           4|          1|               null|\n",
            "|           5|         34|                0.0|\n",
            "+------------+-----------+-------------------+\n",
            "\n"
          ]
        }
      ],
      "source": [
        "ordered_transactions.show()"
      ]
    },
    {
      "cell_type": "markdown",
      "metadata": {
        "id": "aKMcJPpefDMT"
      },
      "source": [
        "### Tratando valores nulos\n",
        "\n"
      ]
    },
    {
      "cell_type": "code",
      "execution_count": 9,
      "metadata": {
        "id": "TEHWp_6bfDMU"
      },
      "outputs": [],
      "source": [
        "transactions_notnull = ordered_transactions.fillna(0.0, subset=[\"desconto_percentual\", \"total_bruto\"])"
      ]
    },
    {
      "cell_type": "code",
      "execution_count": 10,
      "metadata": {
        "colab": {
          "base_uri": "https://localhost:8080/"
        },
        "id": "ATOy9qZ3fDMV",
        "outputId": "3f9934be-5932-4faf-ec1f-21a0e5debd0c"
      },
      "outputs": [
        {
          "output_type": "stream",
          "name": "stdout",
          "text": [
            "+------------+-----------+-------------------+\n",
            "|transacao_id|total_bruto|desconto_percentual|\n",
            "+------------+-----------+-------------------+\n",
            "|           1|       3000|               6.99|\n",
            "|           2|      57989|               1.45|\n",
            "|           4|          1|                0.0|\n",
            "|           5|         34|                0.0|\n",
            "+------------+-----------+-------------------+\n",
            "\n"
          ]
        }
      ],
      "source": [
        "transactions_notnull.show()"
      ]
    },
    {
      "cell_type": "markdown",
      "metadata": {
        "id": "1fRW99X0fDMX"
      },
      "source": [
        "### Cálculo de valor líquido\n"
      ]
    },
    {
      "cell_type": "code",
      "execution_count": 11,
      "metadata": {
        "id": "OxM0-b1EfDMY"
      },
      "outputs": [],
      "source": [
        "transactions_liquido = transactions_notnull.withColumn(\n",
        "    \"total_liquido\", \n",
        "    spark_round((col(\"total_bruto\") - (col(\"total_bruto\") * (col(\"desconto_percentual\") / 100))), 2)\n",
        ")"
      ]
    },
    {
      "cell_type": "code",
      "execution_count": 12,
      "metadata": {
        "colab": {
          "base_uri": "https://localhost:8080/"
        },
        "id": "2VHQPa6ZfDMZ",
        "outputId": "3b58ab27-1740-4c6f-e9fc-497045880b63"
      },
      "outputs": [
        {
          "output_type": "stream",
          "name": "stdout",
          "text": [
            "+------------+-----------+-------------------+-------------+\n",
            "|transacao_id|total_bruto|desconto_percentual|total_liquido|\n",
            "+------------+-----------+-------------------+-------------+\n",
            "|           1|       3000|               6.99|       2790.3|\n",
            "|           2|      57989|               1.45|     57148.16|\n",
            "|           4|          1|                0.0|          1.0|\n",
            "|           5|         34|                0.0|         34.0|\n",
            "+------------+-----------+-------------------+-------------+\n",
            "\n"
          ]
        }
      ],
      "source": [
        "transactions_liquido.show()"
      ]
    },
    {
      "cell_type": "markdown",
      "metadata": {
        "id": "3rfwQJQdfDMZ"
      },
      "source": [
        "### Agregação \n",
        "\n"
      ]
    },
    {
      "cell_type": "code",
      "execution_count": 13,
      "metadata": {
        "colab": {
          "base_uri": "https://localhost:8080/"
        },
        "id": "6jjIQ7ryfDMa",
        "outputId": "183ba5e3-055c-4474-daec-a2fa77b74b25"
      },
      "outputs": [
        {
          "output_type": "stream",
          "name": "stdout",
          "text": [
            "+-------------+\n",
            "|total_liquido|\n",
            "+-------------+\n",
            "|    59,973.46|\n",
            "+-------------+\n",
            "\n"
          ]
        }
      ],
      "source": [
        "total_liquido = transactions_liquido.agg({'total_liquido':'sum'}).select(format_number(\"sum(total_liquido)\", 2).alias(\"total_liquido\"))\n",
        "total_liquido.show()"
      ]
    }
  ],
  "metadata": {
    "kernelspec": {
      "display_name": "Python 3",
      "language": "python",
      "name": "python3"
    },
    "language_info": {
      "codemirror_mode": {
        "name": "ipython",
        "version": 3
      },
      "file_extension": ".py",
      "mimetype": "text/x-python",
      "name": "python",
      "nbconvert_exporter": "python",
      "pygments_lexer": "ipython3",
      "version": "3.8.5"
    },
    "colab": {
      "name": "Total liquido pyspark.ipynb",
      "provenance": [],
      "include_colab_link": true
    }
  },
  "nbformat": 4,
  "nbformat_minor": 0
}